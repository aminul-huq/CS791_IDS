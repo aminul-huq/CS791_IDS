{
 "cells": [
  {
   "cell_type": "code",
   "execution_count": null,
   "id": "dcf4e94b-1523-4aaf-bebd-b4256d1a8d16",
   "metadata": {
    "executionInfo": {
     "elapsed": 188,
     "status": "ok",
     "timestamp": 1711309503130,
     "user": {
      "displayName": "Thane Houghton",
      "userId": "09096675989841313694"
     },
     "user_tz": 420
    },
    "id": "dcf4e94b-1523-4aaf-bebd-b4256d1a8d16"
   },
   "outputs": [],
   "source": [
    "import warnings\n",
    "warnings.filterwarnings(\"ignore\")\n",
    "\n",
    "import pandas as pd\n",
    "import numpy as np\n",
    "import os, pickle, shutil, random, PIL\n",
    "from PIL import Image\n",
    "\n",
    "import torch\n",
    "import torch.nn as nn\n",
    "import torchvision\n",
    "import torch.optim as optim\n",
    "from torchvision import models\n",
    "from torch.utils.data import DataLoader,random_split,Dataset, ConcatDataset ,SubsetRandomSampler\n",
    "from torchvision.datasets import ImageFolder\n",
    "import torchvision.transforms as transforms\n",
    "from torchvision.transforms import v2\n",
    "\n",
    "import matplotlib.pyplot as plt\n",
    "# from torchinfo import summary\n",
    "from training_utils import *"
   ]
  },
  {
   "cell_type": "code",
   "execution_count": null,
   "id": "d6dc4ed3-49dc-4513-a304-af8bb55b0678",
   "metadata": {
    "executionInfo": {
     "elapsed": 184,
     "status": "ok",
     "timestamp": 1711318302524,
     "user": {
      "displayName": "Thane Houghton",
      "userId": "09096675989841313694"
     },
     "user_tz": 420
    },
    "id": "d6dc4ed3-49dc-4513-a304-af8bb55b0678"
   },
   "outputs": [],
   "source": [
    "random.seed(0)\n",
    "np.random.seed(0)\n",
    "torch.manual_seed(0)\n",
    "\n",
    "DFNAME = 'MvNM_rn_34'\n",
    "device = torch.device('cuda:0')\n",
    "criterion = nn.CrossEntropyLoss()\n",
    "\n",
    "modelname = 'MvNM_rn_34'\n",
    "n_epochs = 5\n",
    "batch_size = 4"
   ]
  },
  {
   "cell_type": "code",
   "execution_count": null,
   "id": "05e97b36-20b5-4204-9801-5dabb22e5ac5",
   "metadata": {
    "executionInfo": {
     "elapsed": 177,
     "status": "ok",
     "timestamp": 1711310695475,
     "user": {
      "displayName": "Thane Houghton",
      "userId": "09096675989841313694"
     },
     "user_tz": 420
    },
    "id": "05e97b36-20b5-4204-9801-5dabb22e5ac5"
   },
   "outputs": [],
   "source": [
    "train_dir = 'malignant_benign_1024/train/'\n",
    "test_dir = 'malignant_benign_1024/test/'"
   ]
  },
  {
   "cell_type": "code",
   "execution_count": null,
   "id": "6e999712-6f97-41bc-83d1-dab73b2db0a3",
   "metadata": {
    "executionInfo": {
     "elapsed": 205,
     "status": "ok",
     "timestamp": 1711310697509,
     "user": {
      "displayName": "Thane Houghton",
      "userId": "09096675989841313694"
     },
     "user_tz": 420
    },
    "id": "6e999712-6f97-41bc-83d1-dab73b2db0a3"
   },
   "outputs": [],
   "source": [
    "size = (1024,768)\n",
    "train_set_whole = ImageFolder(train_dir,transform = transforms.Compose([\n",
    "    v2.Resize(size),\n",
    "    v2.RandomHorizontalFlip(0.5),\n",
    "    v2.RandomVerticalFlip(0.5),\n",
    "    v2.RandomRotation(30),\n",
    "    v2.ToTensor(),\n",
    "]))\n",
    "\n",
    "test_set = ImageFolder(test_dir,transform = transforms.Compose([\n",
    "    v2.Resize(size),\n",
    "    v2.ToTensor(),\n",
    "    ]))\n",
    "\n",
    "train_set, valid_set = random_split(train_set_whole,[int(len(train_set_whole)*0.9), int(len(train_set_whole)*0.1)],\n",
    "                                  generator=torch.Generator().manual_seed(0))"
   ]
  },
  {
   "cell_type": "code",
   "execution_count": null,
   "id": "3aa83215-64ac-448f-825f-37d7e0b6a0b0",
   "metadata": {
    "executionInfo": {
     "elapsed": 187,
     "status": "ok",
     "timestamp": 1711318309585,
     "user": {
      "displayName": "Thane Houghton",
      "userId": "09096675989841313694"
     },
     "user_tz": 420
    },
    "id": "3aa83215-64ac-448f-825f-37d7e0b6a0b0"
   },
   "outputs": [],
   "source": [
    "train_loader = DataLoader(train_set, batch_size=batch_size, shuffle=True, num_workers = 4)\n",
    "valid_loader = DataLoader(valid_set, batch_size=batch_size, shuffle=True, num_workers = 4)\n",
    "test_loader = DataLoader(test_set, batch_size=batch_size, shuffle=False, num_workers = 4)\n",
    "test_loader_2 = DataLoader(test_set, batch_size=1, shuffle=False)"
   ]
  },
  {
   "cell_type": "code",
   "execution_count": null,
   "id": "ebc8c8a8-2b23-4562-81c3-295107424803",
   "metadata": {
    "id": "ebc8c8a8-2b23-4562-81c3-295107424803"
   },
   "outputs": [],
   "source": [
    "### Use any one of the following three models. Comment out the ones you don't use or don't run it."
   ]
  },
  {
   "cell_type": "code",
   "execution_count": null,
   "id": "0e67eb8a-3ceb-4de8-8c4d-34a583656876",
   "metadata": {
    "executionInfo": {
     "elapsed": 499,
     "status": "ok",
     "timestamp": 1711318311190,
     "user": {
      "displayName": "Thane Houghton",
      "userId": "09096675989841313694"
     },
     "user_tz": 420
    },
    "id": "0e67eb8a-3ceb-4de8-8c4d-34a583656876"
   },
   "outputs": [],
   "source": [
    "model = models.resnet34().to(device)\n",
    "model.fc = torch.nn.Sequential(\n",
    "    torch.nn.Linear(in_features=512,\n",
    "                    out_features=2, # same number of output units as our number of classes\n",
    "                    bias=True)).to(device)"
   ]
  },
  {
   "cell_type": "code",
   "execution_count": null,
   "id": "fd64d38d-8250-4197-935f-2a10631a7ecf",
   "metadata": {
    "id": "fd64d38d-8250-4197-935f-2a10631a7ecf"
   },
   "outputs": [],
   "source": [
    "model = models.efficientnet_b0().to(device)\n",
    "model.classifier = torch.nn.Sequential(\n",
    "    torch.nn.Linear(in_features=1280,\n",
    "                    out_features=2, # same number of output units as our number of classes\n",
    "                    bias=True)).to(device)"
   ]
  },
  {
   "cell_type": "code",
   "execution_count": null,
   "id": "d79e6ddd-68dc-488d-9f10-c5aadb3bfb4c",
   "metadata": {
    "id": "d79e6ddd-68dc-488d-9f10-c5aadb3bfb4c"
   },
   "outputs": [],
   "source": [
    "model = models.densenet121().to(device)\n",
    "model.classifier = torch.nn.Sequential(\n",
    "    torch.nn.Linear(in_features=1024,\n",
    "                    out_features=2, # same number of output units as our number of classes\n",
    "                    bias=True)).to(device)"
   ]
  },
  {
   "cell_type": "code",
   "execution_count": null,
   "id": "508eb486-0f6e-4122-900a-573a8286d33f",
   "metadata": {
    "executionInfo": {
     "elapsed": 204,
     "status": "ok",
     "timestamp": 1711310734454,
     "user": {
      "displayName": "Thane Houghton",
      "userId": "09096675989841313694"
     },
     "user_tz": 420
    },
    "id": "508eb486-0f6e-4122-900a-573a8286d33f"
   },
   "outputs": [],
   "source": [
    "optim = torch.optim.SGD(model.parameters(),lr=0.0005, weight_decay=1e-4)"
   ]
  },
  {
   "cell_type": "code",
   "execution_count": null,
   "id": "1ab0690d-1c73-49c2-a405-31e3f50321f2",
   "metadata": {
    "colab": {
     "base_uri": "https://localhost:8080/",
     "height": 0
    },
    "executionInfo": {
     "elapsed": 336684,
     "status": "error",
     "timestamp": 1711319070494,
     "user": {
      "displayName": "Thane Houghton",
      "userId": "09096675989841313694"
     },
     "user_tz": 420
    },
    "id": "1ab0690d-1c73-49c2-a405-31e3f50321f2",
    "outputId": "5a053298-7ce5-4b12-c90f-1e603ba1d70e",
    "tags": []
   },
   "outputs": [],
   "source": [
    "scheduler = torch.optim.lr_scheduler.ReduceLROnPlateau(optim, mode='min', factor=0.5, patience=3)\n",
    "\n",
    "history = {'train_loss': [], 'valid_loss': [],'train_acc':[],'valid_acc':[]}\n",
    "\n",
    "for epoch in range(n_epochs):\n",
    "\n",
    "    train_loss, train_acc = train(model,train_loader,criterion,optim,device,epoch)\n",
    "    valid_loss, valid_acc = test(model,valid_loader,criterion,optim,modelname,device,epoch)\n",
    "\n",
    "    scheduler.step(valid_loss)\n",
    "\n",
    "    history['train_loss'].append(train_loss)\n",
    "    history['valid_loss'].append(valid_loss)\n",
    "    history['train_acc'].append(train_acc)\n",
    "    history['valid_acc'].append(valid_acc)\n",
    "\n",
    "\n",
    "with open('./content/storage/' + DFNAME + '.pkl', 'wb') as f:\n",
    "    pickle.dump(history, f)"
   ]
  },
  {
   "cell_type": "code",
   "execution_count": null,
   "id": "0b95a9c3-d941-4d8a-9daf-575ca900e12c",
   "metadata": {
    "id": "0b95a9c3-d941-4d8a-9daf-575ca900e12c"
   },
   "outputs": [],
   "source": []
  },
  {
   "cell_type": "code",
   "execution_count": null,
   "id": "6d14ccc5-8cdb-4eb5-86ad-ba61c9f7d9f9",
   "metadata": {
    "id": "6d14ccc5-8cdb-4eb5-86ad-ba61c9f7d9f9"
   },
   "outputs": [],
   "source": [
    "### While testing use the same model that was used for training. We are creating a new instance of that model\n",
    "### with the best performing weights that we stored during training"
   ]
  },
  {
   "cell_type": "code",
   "execution_count": null,
   "id": "8b23697e-ade5-43e6-bdaf-7e8eed1c8cfd",
   "metadata": {
    "id": "8b23697e-ade5-43e6-bdaf-7e8eed1c8cfd"
   },
   "outputs": [],
   "source": [
    "new_model = models.resnet34().to(device)\n",
    "new_model.fc = torch.nn.Sequential(\n",
    "    torch.nn.Linear(in_features=512,\n",
    "                    out_features=2, # same number of output units as our number of classes\n",
    "                    bias=True)).to(device)"
   ]
  },
  {
   "cell_type": "code",
   "execution_count": null,
   "id": "d0148bae-6399-4afe-a545-db8bda831273",
   "metadata": {
    "id": "d0148bae-6399-4afe-a545-db8bda831273"
   },
   "outputs": [],
   "source": [
    "new_model = models.efficientnet_b0().to(device)\n",
    "new_model.classifier = torch.nn.Sequential(\n",
    "    torch.nn.Linear(in_features=1280,\n",
    "                    out_features=2, # same number of output units as our number of classes\n",
    "                    bias=True)).to(device)"
   ]
  },
  {
   "cell_type": "code",
   "execution_count": null,
   "id": "f64a57e0-23a2-4762-8e5c-c7304ccc6955",
   "metadata": {
    "id": "f64a57e0-23a2-4762-8e5c-c7304ccc6955"
   },
   "outputs": [],
   "source": [
    "new_model = models.densenet121().to(device)\n",
    "new_model.classifier = torch.nn.Sequential(\n",
    "    torch.nn.Linear(in_features=1024,\n",
    "                    out_features=2, # same number of output units as our number of classes\n",
    "                    bias=True)).to(device)"
   ]
  },
  {
   "cell_type": "code",
   "execution_count": null,
   "id": "8b268be1-b786-4d76-8868-3f4bfd244859",
   "metadata": {
    "id": "8b268be1-b786-4d76-8868-3f4bfd244859"
   },
   "outputs": [],
   "source": []
  },
  {
   "cell_type": "code",
   "execution_count": null,
   "id": "ab2135f9-e85b-4d1b-9aea-67421f017ab7",
   "metadata": {
    "id": "ab2135f9-e85b-4d1b-9aea-67421f017ab7"
   },
   "outputs": [],
   "source": [
    "checkpoint = torch.load('./checkpoint/'+modelname+'model.pth.tar',map_location=torch.device('cpu'))\n",
    "new_model.load_state_dict(checkpoint['model'])\n",
    "\n",
    "_, _, y, y_pred = best_test(new_model,test_loader,criterion,optim,device,0)"
   ]
  },
  {
   "cell_type": "code",
   "execution_count": null,
   "id": "3adcc207-d63f-4511-8b1e-ecb75a5dcc47",
   "metadata": {
    "id": "3adcc207-d63f-4511-8b1e-ecb75a5dcc47"
   },
   "outputs": [],
   "source": []
  },
  {
   "cell_type": "code",
   "execution_count": null,
   "id": "8ee3b5c6-9c16-420e-b637-f2262040ebac",
   "metadata": {
    "id": "8ee3b5c6-9c16-420e-b637-f2262040ebac"
   },
   "outputs": [],
   "source": []
  },
  {
   "cell_type": "code",
   "execution_count": null,
   "id": "26a84262-6dee-48c8-90fb-93f74e5e2b99",
   "metadata": {
    "id": "26a84262-6dee-48c8-90fb-93f74e5e2b99"
   },
   "outputs": [],
   "source": []
  },
  {
   "cell_type": "code",
   "execution_count": null,
   "id": "bc625587-d81d-400d-b07a-f15f240b2fe5",
   "metadata": {
    "id": "bc625587-d81d-400d-b07a-f15f240b2fe5"
   },
   "outputs": [],
   "source": []
  },
  {
   "cell_type": "code",
   "execution_count": null,
   "id": "8abfb01d-77ca-4329-8c5e-06aa00a97f5a",
   "metadata": {
    "id": "8abfb01d-77ca-4329-8c5e-06aa00a97f5a"
   },
   "outputs": [],
   "source": []
  },
  {
   "cell_type": "code",
   "execution_count": null,
   "id": "ae007d19-7912-41b6-ae66-0b6cf87fd2b2",
   "metadata": {
    "id": "ae007d19-7912-41b6-ae66-0b6cf87fd2b2"
   },
   "outputs": [],
   "source": []
  },
  {
   "cell_type": "code",
   "execution_count": null,
   "id": "5fe6d4ce-d82b-43a6-9294-89b23c3a25ef",
   "metadata": {
    "id": "5fe6d4ce-d82b-43a6-9294-89b23c3a25ef"
   },
   "outputs": [],
   "source": []
  },
  {
   "cell_type": "code",
   "execution_count": null,
   "id": "1b0e7f52-d7b4-455f-9d7a-92a4293d0699",
   "metadata": {
    "id": "1b0e7f52-d7b4-455f-9d7a-92a4293d0699"
   },
   "outputs": [],
   "source": []
  },
  {
   "cell_type": "code",
   "execution_count": null,
   "id": "4aa13205-24b3-46a4-820a-b797ab03e433",
   "metadata": {
    "id": "4aa13205-24b3-46a4-820a-b797ab03e433"
   },
   "outputs": [],
   "source": []
  },
  {
   "cell_type": "code",
   "execution_count": null,
   "id": "a836cef4-25ee-433f-97e8-0d2ec0dbc15f",
   "metadata": {
    "id": "a836cef4-25ee-433f-97e8-0d2ec0dbc15f"
   },
   "outputs": [],
   "source": []
  },
  {
   "cell_type": "code",
   "execution_count": null,
   "id": "f42a9a3d-4211-47da-aa1b-a73dcc743f75",
   "metadata": {
    "id": "f42a9a3d-4211-47da-aa1b-a73dcc743f75"
   },
   "outputs": [],
   "source": []
  }
 ],
 "metadata": {
  "accelerator": "GPU",
  "colab": {
   "gpuType": "T4",
   "provenance": []
  },
  "kernelspec": {
   "display_name": "Python 3 (ipykernel)",
   "language": "python",
   "name": "python3"
  },
  "language_info": {
   "codemirror_mode": {
    "name": "ipython",
    "version": 3
   },
   "file_extension": ".py",
   "mimetype": "text/x-python",
   "name": "python",
   "nbconvert_exporter": "python",
   "pygments_lexer": "ipython3",
   "version": "3.9.12"
  }
 },
 "nbformat": 4,
 "nbformat_minor": 5
}
