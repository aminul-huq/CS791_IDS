{
 "cells": [
  {
   "cell_type": "code",
   "execution_count": null,
   "id": "dcf4e94b-1523-4aaf-bebd-b4256d1a8d16",
   "metadata": {
    "executionInfo": {
     "elapsed": 188,
     "status": "ok",
     "timestamp": 1711309503130,
     "user": {
      "displayName": "Thane Houghton",
      "userId": "09096675989841313694"
     },
     "user_tz": 420
    },
    "id": "dcf4e94b-1523-4aaf-bebd-b4256d1a8d16"
   },
   "outputs": [],
   "source": [
    "import warnings\n",
    "warnings.filterwarnings(\"ignore\")\n",
    "\n",
    "import pandas as pd\n",
    "import numpy as np\n",
    "import os, pickle, shutil, random, PIL\n",
    "from PIL import Image\n",
    "\n",
    "import torch\n",
    "import torch.nn as nn\n",
    "import torchvision\n",
    "import torch.optim as optim\n",
    "from torchvision import models\n",
    "from torch.utils.data import DataLoader,random_split,Dataset, ConcatDataset ,SubsetRandomSampler\n",
    "from torchvision.datasets import ImageFolder\n",
    "import torchvision.transforms as transforms\n",
    "from torchvision.transforms import v2\n",
    "\n",
    "import matplotlib.pyplot as plt\n",
    "from focal_loss_with_smoothing import FocalLossWithSmoothing\n",
    "from model import *\n",
    "# from torchinfo import summary\n",
    "from training_utils import *"
   ]
  },
  {
   "cell_type": "code",
   "execution_count": null,
   "id": "d6dc4ed3-49dc-4513-a304-af8bb55b0678",
   "metadata": {
    "executionInfo": {
     "elapsed": 184,
     "status": "ok",
     "timestamp": 1711318302524,
     "user": {
      "displayName": "Thane Houghton",
      "userId": "09096675989841313694"
     },
     "user_tz": 420
    },
    "id": "d6dc4ed3-49dc-4513-a304-af8bb55b0678"
   },
   "outputs": [],
   "source": [
    "random.seed(0)\n",
    "np.random.seed(0)\n",
    "torch.manual_seed(0)\n",
    "\n",
    "torch.backends.cudnn.benchmark = True\n",
    "torch.backends.cudnn.deterministic = True\n",
    "\n",
    "DFNAME = '_'\n",
    "device = torch.device('cuda:0')\n",
    "criterion1 = FocalLossWithSmoothing(num_classes =2,gamma=2, lb_smooth = 0.1)\n",
    "criterion2 = nn.MSELoss()\n",
    "\n",
    "modelname = 'rn50_autoencoder_withlatent'\n",
    "n_epochs = 100\n",
    "batch_size = 4"
   ]
  },
  {
   "cell_type": "code",
   "execution_count": null,
   "id": "05e97b36-20b5-4204-9801-5dabb22e5ac5",
   "metadata": {
    "executionInfo": {
     "elapsed": 177,
     "status": "ok",
     "timestamp": 1711310695475,
     "user": {
      "displayName": "Thane Houghton",
      "userId": "09096675989841313694"
     },
     "user_tz": 420
    },
    "id": "05e97b36-20b5-4204-9801-5dabb22e5ac5"
   },
   "outputs": [],
   "source": [
    "train_dir = '/nfs/cc-filer/home/mpervin/Saud/mass_non_mass_1024/train/'\n",
    "test_dir = '/nfs/cc-filer/home/mpervin/Saud/mass_non_mass_1024/test/'\n",
    "\n",
    "# train_dir = '/nfs/cc-filer/home/mpervin/Saud/mias_mass_non_mass/train/'\n",
    "# test_dir = '/nfs/cc-filer/home/mpervin/Saud/mias_mass_non_mass/test/'"
   ]
  },
  {
   "cell_type": "code",
   "execution_count": null,
   "id": "6e999712-6f97-41bc-83d1-dab73b2db0a3",
   "metadata": {
    "executionInfo": {
     "elapsed": 205,
     "status": "ok",
     "timestamp": 1711310697509,
     "user": {
      "displayName": "Thane Houghton",
      "userId": "09096675989841313694"
     },
     "user_tz": 420
    },
    "id": "6e999712-6f97-41bc-83d1-dab73b2db0a3"
   },
   "outputs": [],
   "source": [
    "size = (512,512)\n",
    "train_set_whole = ImageFolder(train_dir,transform = transforms.Compose([\n",
    "    v2.Resize(size),\n",
    "    v2.Grayscale(1),\n",
    "    v2.RandomHorizontalFlip(0.5),\n",
    "    v2.RandomVerticalFlip(0.5),\n",
    "    v2.RandomRotation(30),\n",
    "    v2.ToTensor(),\n",
    "]))\n",
    "\n",
    "test_set = ImageFolder(test_dir,transform = transforms.Compose([\n",
    "    v2.Resize(size),\n",
    "    v2.Grayscale(1),\n",
    "    v2.ToTensor(),\n",
    "    ]))\n",
    "\n",
    "train_set, valid_set = random_split(train_set_whole,[int(len(train_set_whole)*0.9), int(len(train_set_whole)*0.1)+1],\n",
    "                                  generator=torch.Generator().manual_seed(0))"
   ]
  },
  {
   "cell_type": "code",
   "execution_count": null,
   "id": "3aa83215-64ac-448f-825f-37d7e0b6a0b0",
   "metadata": {
    "executionInfo": {
     "elapsed": 187,
     "status": "ok",
     "timestamp": 1711318309585,
     "user": {
      "displayName": "Thane Houghton",
      "userId": "09096675989841313694"
     },
     "user_tz": 420
    },
    "id": "3aa83215-64ac-448f-825f-37d7e0b6a0b0"
   },
   "outputs": [],
   "source": [
    "train_loader = DataLoader(train_set, batch_size=batch_size, shuffle=True, num_workers = 4)\n",
    "valid_loader = DataLoader(valid_set, batch_size=batch_size, shuffle=True, num_workers = 4)\n",
    "test_loader = DataLoader(test_set, batch_size=batch_size, shuffle=False, num_workers = 4)\n",
    "test_loader_2 = DataLoader(test_set, batch_size=1, shuffle=False)"
   ]
  },
  {
   "cell_type": "code",
   "execution_count": null,
   "id": "ebc8c8a8-2b23-4562-81c3-295107424803",
   "metadata": {
    "id": "ebc8c8a8-2b23-4562-81c3-295107424803"
   },
   "outputs": [],
   "source": [
    "### Use any one of the following three models. Comment out the ones you don't use or don't run it."
   ]
  },
  {
   "cell_type": "code",
   "execution_count": null,
   "id": "f90b46c6-01a2-4369-aed6-6ac7c9fa4cdc",
   "metadata": {},
   "outputs": [],
   "source": [
    "model = AutoencoderWithClassification(num_classes=2).to(device)"
   ]
  },
  {
   "cell_type": "code",
   "execution_count": null,
   "id": "d1d5e817-b282-486d-9001-825282068286",
   "metadata": {},
   "outputs": [],
   "source": [
    "modelname = 'MvNM_rn50_autoencoder_gendata'\n",
    "checkpoint = torch.load('./checkpoint/'+modelname+'model.pth.tar',map_location=torch.device('cpu'))\n",
    "model.load_state_dict(checkpoint['model'])\n",
    "\n",
    "modelname = 'proposed'"
   ]
  },
  {
   "cell_type": "code",
   "execution_count": null,
   "id": "cb44391f-9a81-42f6-8bbc-046b8dadefd6",
   "metadata": {
    "scrolled": true
   },
   "outputs": [],
   "source": [
    "# summary(model, input_size=(1,1,768,512), col_names =['input_size', 'output_size','num_params','trainable'] )  "
   ]
  },
  {
   "cell_type": "code",
   "execution_count": null,
   "id": "cc83741b-b087-424d-9ef0-f69834379de2",
   "metadata": {},
   "outputs": [],
   "source": [
    "num_layers_to_freeze = 33\n",
    "counter = 0\n",
    "for name, param in model.named_parameters():\n",
    "    if counter < num_layers_to_freeze:\n",
    "        # param.requires_grad = False\n",
    "        # print(f\"Freezing layer {name}\")\n",
    "        counter += 1\n",
    "    else:\n",
    "        break\n",
    "\n",
    "# # Check which layers are frozen\n",
    "# for name, param in model.named_parameters():\n",
    "#     if not param.requires_grad:\n",
    "#         print(f\"Layer {name} is frozen\")\n",
    "#     else:\n",
    "#         print(f\"Layer {name} is trainable\")\n",
    "\n",
    "# summary(model, input_size=(1,1,768,512), col_names =['input_size', 'output_size','num_params','trainable'] )  "
   ]
  },
  {
   "cell_type": "code",
   "execution_count": null,
   "id": "d6508bd0-fd8f-406f-8ded-ca7829993247",
   "metadata": {},
   "outputs": [],
   "source": []
  },
  {
   "cell_type": "code",
   "execution_count": null,
   "id": "508eb486-0f6e-4122-900a-573a8286d33f",
   "metadata": {
    "executionInfo": {
     "elapsed": 204,
     "status": "ok",
     "timestamp": 1711310734454,
     "user": {
      "displayName": "Thane Houghton",
      "userId": "09096675989841313694"
     },
     "user_tz": 420
    },
    "id": "508eb486-0f6e-4122-900a-573a8286d33f"
   },
   "outputs": [],
   "source": [
    "optim = torch.optim.Adam(model.parameters(),lr=0.0005,weight_decay=1e-4)"
   ]
  },
  {
   "cell_type": "code",
   "execution_count": null,
   "id": "1ab0690d-1c73-49c2-a405-31e3f50321f2",
   "metadata": {
    "colab": {
     "base_uri": "https://localhost:8080/",
     "height": 0
    },
    "executionInfo": {
     "elapsed": 336684,
     "status": "error",
     "timestamp": 1711319070494,
     "user": {
      "displayName": "Thane Houghton",
      "userId": "09096675989841313694"
     },
     "user_tz": 420
    },
    "id": "1ab0690d-1c73-49c2-a405-31e3f50321f2",
    "outputId": "5a053298-7ce5-4b12-c90f-1e603ba1d70e",
    "scrolled": true,
    "tags": []
   },
   "outputs": [],
   "source": [
    "scheduler = torch.optim.lr_scheduler.ReduceLROnPlateau(optim, mode='min', factor=0.5, patience=3)\n",
    "\n",
    "history = {'train_loss': [], 'valid_loss': [],'train_acc':[],'valid_acc':[]}\n",
    "\n",
    "for epoch in range(n_epochs):\n",
    "\n",
    "    train_loss, train_acc = train_both(model,train_loader,criterion1,criterion2,optim,device,epoch)\n",
    "    valid_loss, valid_acc = test_both(model,valid_loader,criterion1,criterion2,optim,modelname,device,epoch)\n",
    "\n",
    "    scheduler.step(valid_loss)\n",
    "\n",
    "    history['train_loss'].append(train_loss)\n",
    "    history['valid_loss'].append(valid_loss)\n",
    "    history['train_acc'].append(train_acc)\n",
    "    history['valid_acc'].append(valid_acc)\n",
    "\n",
    "\n",
    "with open('./storage/' + DFNAME + '.pkl', 'wb') as f:\n",
    "    pickle.dump(history, f)"
   ]
  },
  {
   "cell_type": "code",
   "execution_count": null,
   "id": "0b95a9c3-d941-4d8a-9daf-575ca900e12c",
   "metadata": {
    "id": "0b95a9c3-d941-4d8a-9daf-575ca900e12c"
   },
   "outputs": [],
   "source": []
  },
  {
   "cell_type": "code",
   "execution_count": null,
   "id": "6d14ccc5-8cdb-4eb5-86ad-ba61c9f7d9f9",
   "metadata": {
    "id": "6d14ccc5-8cdb-4eb5-86ad-ba61c9f7d9f9"
   },
   "outputs": [],
   "source": [
    "### While testing use the same model that was used for training. We are creating a new instance of that model\n",
    "### with the best performing weights that we stored during training"
   ]
  },
  {
   "cell_type": "code",
   "execution_count": null,
   "id": "8b268be1-b786-4d76-8868-3f4bfd244859",
   "metadata": {
    "id": "8b268be1-b786-4d76-8868-3f4bfd244859"
   },
   "outputs": [],
   "source": [
    "new_model = AutoencoderWithClassification(num_classes=2).to(device)"
   ]
  },
  {
   "cell_type": "code",
   "execution_count": null,
   "id": "ab2135f9-e85b-4d1b-9aea-67421f017ab7",
   "metadata": {
    "id": "ab2135f9-e85b-4d1b-9aea-67421f017ab7"
   },
   "outputs": [],
   "source": [
    "checkpoint = torch.load('./checkpoint/'+modelname+'model.pth.tar',map_location=torch.device('cpu'))\n",
    "new_model.load_state_dict(checkpoint['model'])\n",
    "\n",
    "best_test_both(new_model,test_loader, criterion1,criterion2,device)\n",
    "# _, _, y, y_pred = best_test(new_model,test_loader,criterion,optim,device,0)"
   ]
  },
  {
   "cell_type": "code",
   "execution_count": null,
   "id": "3adcc207-d63f-4511-8b1e-ecb75a5dcc47",
   "metadata": {
    "id": "3adcc207-d63f-4511-8b1e-ecb75a5dcc47"
   },
   "outputs": [],
   "source": [
    "best_test_both(new_model,train_loader, criterion1,criterion2,device)"
   ]
  },
  {
   "cell_type": "code",
   "execution_count": null,
   "id": "8ee3b5c6-9c16-420e-b637-f2262040ebac",
   "metadata": {
    "id": "8ee3b5c6-9c16-420e-b637-f2262040ebac"
   },
   "outputs": [],
   "source": [
    "best_test_both(new_model,valid_loader, criterion1,criterion2,device)"
   ]
  },
  {
   "cell_type": "code",
   "execution_count": null,
   "id": "26a84262-6dee-48c8-90fb-93f74e5e2b99",
   "metadata": {
    "id": "26a84262-6dee-48c8-90fb-93f74e5e2b99"
   },
   "outputs": [],
   "source": []
  },
  {
   "cell_type": "code",
   "execution_count": null,
   "id": "bc625587-d81d-400d-b07a-f15f240b2fe5",
   "metadata": {
    "id": "bc625587-d81d-400d-b07a-f15f240b2fe5"
   },
   "outputs": [],
   "source": []
  },
  {
   "cell_type": "code",
   "execution_count": null,
   "id": "8abfb01d-77ca-4329-8c5e-06aa00a97f5a",
   "metadata": {
    "id": "8abfb01d-77ca-4329-8c5e-06aa00a97f5a"
   },
   "outputs": [],
   "source": []
  },
  {
   "cell_type": "code",
   "execution_count": null,
   "id": "ae007d19-7912-41b6-ae66-0b6cf87fd2b2",
   "metadata": {
    "id": "ae007d19-7912-41b6-ae66-0b6cf87fd2b2"
   },
   "outputs": [],
   "source": []
  },
  {
   "cell_type": "code",
   "execution_count": null,
   "id": "5fe6d4ce-d82b-43a6-9294-89b23c3a25ef",
   "metadata": {
    "id": "5fe6d4ce-d82b-43a6-9294-89b23c3a25ef"
   },
   "outputs": [],
   "source": []
  },
  {
   "cell_type": "code",
   "execution_count": null,
   "id": "1b0e7f52-d7b4-455f-9d7a-92a4293d0699",
   "metadata": {
    "id": "1b0e7f52-d7b4-455f-9d7a-92a4293d0699"
   },
   "outputs": [],
   "source": []
  },
  {
   "cell_type": "code",
   "execution_count": null,
   "id": "4aa13205-24b3-46a4-820a-b797ab03e433",
   "metadata": {
    "id": "4aa13205-24b3-46a4-820a-b797ab03e433"
   },
   "outputs": [],
   "source": []
  },
  {
   "cell_type": "code",
   "execution_count": null,
   "id": "a836cef4-25ee-433f-97e8-0d2ec0dbc15f",
   "metadata": {
    "id": "a836cef4-25ee-433f-97e8-0d2ec0dbc15f"
   },
   "outputs": [],
   "source": []
  },
  {
   "cell_type": "code",
   "execution_count": null,
   "id": "f42a9a3d-4211-47da-aa1b-a73dcc743f75",
   "metadata": {
    "id": "f42a9a3d-4211-47da-aa1b-a73dcc743f75"
   },
   "outputs": [],
   "source": []
  }
 ],
 "metadata": {
  "accelerator": "GPU",
  "colab": {
   "gpuType": "T4",
   "provenance": []
  },
  "kernelspec": {
   "display_name": "anomaly",
   "language": "python",
   "name": "anomaly"
  },
  "language_info": {
   "codemirror_mode": {
    "name": "ipython",
    "version": 3
   },
   "file_extension": ".py",
   "mimetype": "text/x-python",
   "name": "python",
   "nbconvert_exporter": "python",
   "pygments_lexer": "ipython3",
   "version": "3.12.2"
  }
 },
 "nbformat": 4,
 "nbformat_minor": 5
}
